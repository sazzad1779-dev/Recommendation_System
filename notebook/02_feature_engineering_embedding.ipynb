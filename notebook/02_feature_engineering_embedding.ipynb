{
 "cells": [
  {
   "cell_type": "markdown",
   "id": "07d41067",
   "metadata": {},
   "source": [
    "## Import Library"
   ]
  },
  {
   "cell_type": "code",
   "execution_count": 1,
   "id": "2640e8dc",
   "metadata": {},
   "outputs": [],
   "source": [
    "import pandas as pd\n",
    "import numpy as np\n",
    "import ast"
   ]
  },
  {
   "cell_type": "code",
   "execution_count": 4,
   "id": "a9b05f3c",
   "metadata": {},
   "outputs": [
    {
     "name": "stdout",
     "output_type": "stream",
     "text": [
      "Original dataset shape: (15515, 17)\n"
     ]
    }
   ],
   "source": [
    "# Load the dataset\n",
    "df = pd.read_csv(r'../data/zomato.csv').sample(frac=0.3, random_state=42)\n",
    "print(f\"Original dataset shape: {df.shape}\")\n"
   ]
  },
  {
   "cell_type": "code",
   "execution_count": 5,
   "id": "8107632a",
   "metadata": {},
   "outputs": [
    {
     "name": "stdout",
     "output_type": "stream",
     "text": [
      "\n",
      " MISSING VALUES ANALYSIS \n",
      "                             Missing_Count  Missing_Percentage\n",
      "dish_liked                            8426           54.308733\n",
      "rate                                  2347           15.127296\n",
      "phone                                  389            2.507251\n",
      "approx_cost(for two people)            115            0.741218\n",
      "rest_type                               84            0.541412\n",
      "cuisines                                15            0.096681\n",
      "location                                 8            0.051563\n",
      "url                                      0            0.000000\n",
      "address                                  0            0.000000\n",
      "votes                                    0            0.000000\n",
      "name                                     0            0.000000\n",
      "online_order                             0            0.000000\n",
      "book_table                               0            0.000000\n",
      "reviews_list                             0            0.000000\n",
      "menu_item                                0            0.000000\n",
      "listed_in(type)                          0            0.000000\n",
      "listed_in(city)                          0            0.000000\n"
     ]
    }
   ],
   "source": [
    "# Missing values analysis\n",
    "print(\"\\n MISSING VALUES ANALYSIS \")\n",
    "missing_data = df.isnull().sum()\n",
    "missing_percentage = (missing_data / len(df)) * 100\n",
    "\n",
    "missing_df = pd.DataFrame({\n",
    "    'Missing_Count': missing_data,\n",
    "    'Missing_Percentage': missing_percentage\n",
    "}).sort_values('Missing_Percentage', ascending=False)\n",
    "print(missing_df)"
   ]
  },
  {
   "cell_type": "markdown",
   "id": "94598309",
   "metadata": {},
   "source": [
    "### Comprehensive Data Cleaning"
   ]
  },
  {
   "cell_type": "code",
   "execution_count": 6,
   "id": "3985b0f4",
   "metadata": {},
   "outputs": [
    {
     "name": "stdout",
     "output_type": "stream",
     "text": [
      "After cleaning - Rating nulls: 0, Cost nulls: 0\n",
      "Text features processed\n"
     ]
    }
   ],
   "source": [
    "# Create a copy for feature engineering\n",
    "df_clean = df.copy()\n",
    "\n",
    "# 1. Clean rating column\n",
    "def clean_rating(rate):\n",
    "    if pd.isna(rate) or rate in ['NEW', '-', 'nan']:\n",
    "        return np.nan\n",
    "    try:\n",
    "        return float(rate.split('/')[0])\n",
    "    except:\n",
    "        return np.nan\n",
    "df_clean['rating'] = df_clean['rate'].apply(clean_rating)\n",
    "\n",
    "# 2. Clean cost column\n",
    "def clean_cost(cost):\n",
    "    if pd.isna(cost):\n",
    "        return np.nan\n",
    "    try:\n",
    "        # Remove commas and currency symbols\n",
    "        cost_str = str(cost).replace(',', '').replace('₹', '').strip()\n",
    "        return float(cost_str)\n",
    "    except:\n",
    "        return np.nan\n",
    "# df_clean_clean['cost_for_two'] = df_clean_clean['approx_cost(for two people)'].apply(clean_cost)\n",
    "df_clean['cost'] = df_clean['approx_cost(for two people)'].apply(clean_cost)\n",
    "\n",
    "# Fill missing values\n",
    "df_clean['rating'] = df_clean['rating'].fillna(df_clean['rating'].median())\n",
    "df_clean['cost'] = df_clean['cost'].fillna(df_clean['cost'].median())\n",
    "df_clean['votes'] = df_clean['votes'].fillna(0)\n",
    "\n",
    "print(f\"After cleaning - Rating nulls: {df_clean['rating'].isnull().sum()}, Cost nulls: {df_clean['cost'].isnull().sum()}\")\n",
    "# Clean and process cuisines\n",
    "def process_cuisines(cuisines):\n",
    "    if pd.isna(cuisines):\n",
    "        return 'not_specified'\n",
    "    return str(cuisines).lower().strip()\n",
    "\n",
    "df_clean['cuisines_clean'] = df_clean['cuisines'].apply(process_cuisines)\n",
    "\n",
    "# Clean location\n",
    "df_clean['location_clean'] = df_clean['location'].fillna('unknown').str.lower().str.strip()\n",
    "\n",
    "# Clean restaurant type\n",
    "df_clean['rest_type_clean'] = df_clean['rest_type'].fillna('not_specified').str.lower().str.strip()\n",
    "\n",
    "# Process dishes liked\n",
    "def process_dishes(dishes):\n",
    "    if pd.isna(dishes) or dishes == '':\n",
    "        return 'no_dishes'\n",
    "    try:\n",
    "        dishes_str = str(dishes).replace(';', ',')\n",
    "        dish_list = [dish.strip().lower() for dish in dishes_str.split(',') if dish.strip()]\n",
    "        return ', '.join(dish_list) if dish_list else 'no_dishes'\n",
    "    except:\n",
    "        return 'no_dishes'\n",
    "\n",
    "df_clean['dishes_clean'] = df_clean['dish_liked'].apply(process_dishes)\n",
    "\n",
    "print(\"Text features processed\")"
   ]
  },
  {
   "cell_type": "code",
   "execution_count": 7,
   "id": "212e43f7",
   "metadata": {},
   "outputs": [],
   "source": [
    "def create_restaurant_text(row):\n",
    "    \"\"\"Combine all relevant text features into one string for embedding\"\"\"\n",
    "    parts = []\n",
    "    \n",
    "    # Add cuisines\n",
    "    if row['cuisines_clean'] != 'not_specified':\n",
    "        parts.append(f\"cuisines: {row['cuisines_clean']}\")\n",
    "    \n",
    "    # Add restaurant type  \n",
    "    if row['rest_type_clean'] != 'not_specified':\n",
    "        parts.append(f\"type: {row['rest_type_clean']}\")\n",
    "    \n",
    "    # Add location\n",
    "    if row['location_clean'] != 'unknown':\n",
    "        parts.append(f\"location: {row['location_clean']}\")\n",
    "    \n",
    "    # Add dishes\n",
    "    if row['dishes_clean'] != 'no_dishes':\n",
    "        parts.append(f\"popular dishes: {row['dishes_clean']}\")\n",
    "    \n",
    "    # Add service info\n",
    "    services = []\n",
    "    if row['online_order'] == 'Yes':\n",
    "        services.append('online ordering available')\n",
    "    if row['book_table'] == 'Yes':\n",
    "        services.append('table booking available')\n",
    "    \n",
    "    if services:\n",
    "        parts.append(f\"services: {', '.join(services)}\")\n",
    "    \n",
    "    return ' | '.join(parts) if parts else 'no information available'\n",
    "\n",
    "df_clean['embedding_text'] = df_clean.apply(create_restaurant_text, axis=1)\n"
   ]
  },
  {
   "cell_type": "markdown",
   "id": "79018aaf",
   "metadata": {},
   "source": [
    "### Numerical Feature Engineering"
   ]
  },
  {
   "cell_type": "code",
   "execution_count": 8,
   "id": "b8a267b4",
   "metadata": {},
   "outputs": [
    {
     "name": "stdout",
     "output_type": "stream",
     "text": [
      "Numerical features normalized\n"
     ]
    }
   ],
   "source": [
    "# Create normalized numerical features\n",
    "df_clean['rating_normalized'] = df_clean['rating'] / 5.0  # Normalize to 0-1\n",
    "df_clean['cost_normalized'] = (df_clean['cost'] - df_clean['cost'].min()) / (df_clean['cost'].max() - df_clean['cost'].min())  # Min-max normalization\n",
    "df_clean['votes_log'] = np.log1p(df_clean['votes'])  # Log transform votes\n",
    "df_clean['votes_normalized'] = (df_clean['votes_log'] - df_clean['votes_log'].min()) / (df_clean['votes_log'].max() - df_clean['votes_log'].min())\n",
    "\n",
    "print(\"Numerical features normalized\")"
   ]
  },
  {
   "cell_type": "markdown",
   "id": "fd70f835",
   "metadata": {},
   "source": [
    "### Select features for embedding"
   ]
  },
  {
   "cell_type": "code",
   "execution_count": 9,
   "id": "ff74d880",
   "metadata": {},
   "outputs": [
    {
     "name": "stdout",
     "output_type": "stream",
     "text": [
      "Embedding data shape before cleaning: (15515, 14)\n"
     ]
    }
   ],
   "source": [
    "# Select features for embedding\n",
    "embedding_data = df_clean[['name', 'address', 'location_clean', 'cuisines_clean', \n",
    "                          'rest_type_clean', 'embedding_text', 'rating', 'cost', \n",
    "                          'rating_normalized', 'cost_normalized', 'votes_normalized',\n",
    "                          'online_order', 'book_table', 'votes']].copy()\n",
    "\n",
    "# Rename columns for clarity\n",
    "embedding_data = embedding_data.rename(columns={\n",
    "    'location_clean': 'location',\n",
    "    'cuisines_clean': 'cuisines', \n",
    "    'rest_type_clean': 'restaurant_type'\n",
    "})\n",
    "\n",
    "print(f\"Embedding data shape before cleaning: {embedding_data.shape}\")\n",
    "\n"
   ]
  },
  {
   "cell_type": "code",
   "execution_count": 10,
   "id": "25e17244",
   "metadata": {},
   "outputs": [
    {
     "name": "stdout",
     "output_type": "stream",
     "text": [
      "Final embedding dataset shape: (15515, 14)\n"
     ]
    }
   ],
   "source": [
    "# Remove any remaining nulls in critical columns\n",
    "embedding_data = embedding_data.dropna(subset=['name', 'embedding_text'])\n",
    "\n",
    "print(f\"Final embedding dataset shape: {embedding_data.shape}\")"
   ]
  },
  {
   "cell_type": "code",
   "execution_count": 11,
   "id": "109a53b0",
   "metadata": {},
   "outputs": [
    {
     "name": "stdout",
     "output_type": "stream",
     "text": [
      "Final data check:\n",
      "Null values in each column:\n",
      "name                 0\n",
      "address              0\n",
      "location             0\n",
      "cuisines             0\n",
      "restaurant_type      0\n",
      "embedding_text       0\n",
      "rating               0\n",
      "cost                 0\n",
      "rating_normalized    0\n",
      "cost_normalized      0\n",
      "votes_normalized     0\n",
      "online_order         0\n",
      "book_table           0\n",
      "votes                0\n",
      "dtype: int64\n",
      "\n",
      "Sample embedding text:\n",
      "cuisines: oriya, fast food | type: quick bites | location: btm | popular dishes: rasgulla, mutton kosha, chicken kasha, samosa chaat, kheer, veg thali | services: online ordering available\n"
     ]
    }
   ],
   "source": [
    "print(\"Final data check:\")\n",
    "print(f\"Null values in each column:\")\n",
    "print(embedding_data.isnull().sum())\n",
    "\n",
    "print(f\"\\nSample embedding text:\")\n",
    "print(embedding_data['embedding_text'].iloc[0])"
   ]
  },
  {
   "cell_type": "code",
   "execution_count": 12,
   "id": "8f01de60",
   "metadata": {},
   "outputs": [
    {
     "name": "stdout",
     "output_type": "stream",
     "text": [
      "Data saved to '../processed_data/restaurants_for_embedding.csv'\n",
      "Ready for embedding with 15515 restaurants\n",
      "\n",
      "=== FINAL DATASET SUMMARY ===\n",
      "Total restaurants: 15515\n",
      "Columns: ['name', 'address', 'location', 'cuisines', 'restaurant_type', 'embedding_text', 'rating', 'cost', 'rating_normalized', 'cost_normalized', 'votes_normalized', 'online_order', 'book_table', 'votes']\n",
      "\n",
      "Numerical features summary:\n",
      "             rating          cost         votes  rating_normalized  \\\n",
      "count  15515.000000  15515.000000  15515.000000       15515.000000   \n",
      "mean       3.704705    554.779826    286.243764           0.740941   \n",
      "std        0.394439    431.608506    777.574957           0.078888   \n",
      "min        1.800000     40.000000      0.000000           0.360000   \n",
      "25%        3.500000    300.000000      7.000000           0.700000   \n",
      "50%        3.700000    400.000000     42.000000           0.740000   \n",
      "75%        3.900000    700.000000    201.000000           0.780000   \n",
      "max        4.900000   4100.000000  16832.000000           0.980000   \n",
      "\n",
      "       cost_normalized  votes_normalized  \n",
      "count     15515.000000      15515.000000  \n",
      "mean          0.126793          0.368535  \n",
      "std           0.106308          0.238705  \n",
      "min           0.000000          0.000000  \n",
      "25%           0.064039          0.213690  \n",
      "50%           0.088670          0.386513  \n",
      "75%           0.162562          0.545495  \n",
      "max           1.000000          1.000000  \n",
      "\n",
      "=== DATA PREVIEW ===\n"
     ]
    },
    {
     "data": {
      "text/html": [
       "<div>\n",
       "<style scoped>\n",
       "    .dataframe tbody tr th:only-of-type {\n",
       "        vertical-align: middle;\n",
       "    }\n",
       "\n",
       "    .dataframe tbody tr th {\n",
       "        vertical-align: top;\n",
       "    }\n",
       "\n",
       "    .dataframe thead th {\n",
       "        text-align: right;\n",
       "    }\n",
       "</style>\n",
       "<table border=\"1\" class=\"dataframe\">\n",
       "  <thead>\n",
       "    <tr style=\"text-align: right;\">\n",
       "      <th></th>\n",
       "      <th>name</th>\n",
       "      <th>address</th>\n",
       "      <th>location</th>\n",
       "      <th>cuisines</th>\n",
       "      <th>restaurant_type</th>\n",
       "      <th>embedding_text</th>\n",
       "      <th>rating</th>\n",
       "      <th>cost</th>\n",
       "      <th>rating_normalized</th>\n",
       "      <th>cost_normalized</th>\n",
       "      <th>votes_normalized</th>\n",
       "      <th>online_order</th>\n",
       "      <th>book_table</th>\n",
       "      <th>votes</th>\n",
       "    </tr>\n",
       "  </thead>\n",
       "  <tbody>\n",
       "    <tr>\n",
       "      <th>8440</th>\n",
       "      <td>Kalingas</td>\n",
       "      <td>399, 16th Main, N.S Palya, BTM, Bangalore</td>\n",
       "      <td>btm</td>\n",
       "      <td>oriya, fast food</td>\n",
       "      <td>quick bites</td>\n",
       "      <td>cuisines: oriya, fast food | type: quick bites...</td>\n",
       "      <td>3.9</td>\n",
       "      <td>250.0</td>\n",
       "      <td>0.78</td>\n",
       "      <td>0.051724</td>\n",
       "      <td>0.533646</td>\n",
       "      <td>Yes</td>\n",
       "      <td>No</td>\n",
       "      <td>179</td>\n",
       "    </tr>\n",
       "    <tr>\n",
       "      <th>23575</th>\n",
       "      <td>Angel Restaurant</td>\n",
       "      <td>1st Cross, Bilekahalli, Near IIMB College, Ban...</td>\n",
       "      <td>bannerghatta road</td>\n",
       "      <td>kerala, south indian, north indian</td>\n",
       "      <td>quick bites</td>\n",
       "      <td>cuisines: kerala, south indian, north indian |...</td>\n",
       "      <td>2.8</td>\n",
       "      <td>450.0</td>\n",
       "      <td>0.56</td>\n",
       "      <td>0.100985</td>\n",
       "      <td>0.525325</td>\n",
       "      <td>Yes</td>\n",
       "      <td>No</td>\n",
       "      <td>165</td>\n",
       "    </tr>\n",
       "    <tr>\n",
       "      <th>16711</th>\n",
       "      <td>Cafe Talkhouse</td>\n",
       "      <td>4rd floor, 7th Cross, Opposite to BMTC Bus Dep...</td>\n",
       "      <td>hsr</td>\n",
       "      <td>north indian</td>\n",
       "      <td>quick bites</td>\n",
       "      <td>cuisines: north indian | type: quick bites | l...</td>\n",
       "      <td>3.8</td>\n",
       "      <td>400.0</td>\n",
       "      <td>0.76</td>\n",
       "      <td>0.088670</td>\n",
       "      <td>0.326587</td>\n",
       "      <td>No</td>\n",
       "      <td>No</td>\n",
       "      <td>23</td>\n",
       "    </tr>\n",
       "    <tr>\n",
       "      <th>42588</th>\n",
       "      <td>Paratha Xpress</td>\n",
       "      <td>17/1 Cambridge Road, Opposite The Frank Antony...</td>\n",
       "      <td>ulsoor</td>\n",
       "      <td>north indian, chinese</td>\n",
       "      <td>quick bites</td>\n",
       "      <td>cuisines: north indian, chinese | type: quick ...</td>\n",
       "      <td>3.5</td>\n",
       "      <td>200.0</td>\n",
       "      <td>0.70</td>\n",
       "      <td>0.039409</td>\n",
       "      <td>0.225794</td>\n",
       "      <td>No</td>\n",
       "      <td>No</td>\n",
       "      <td>8</td>\n",
       "    </tr>\n",
       "    <tr>\n",
       "      <th>5266</th>\n",
       "      <td>Classic Lassi Shop</td>\n",
       "      <td>Skywalk, 5/1, Near Body Craft, Assaye Road, Ul...</td>\n",
       "      <td>ulsoor</td>\n",
       "      <td>beverages, ice cream</td>\n",
       "      <td>beverage shop</td>\n",
       "      <td>cuisines: beverages, ice cream | type: beverag...</td>\n",
       "      <td>3.5</td>\n",
       "      <td>150.0</td>\n",
       "      <td>0.70</td>\n",
       "      <td>0.027094</td>\n",
       "      <td>0.388876</td>\n",
       "      <td>Yes</td>\n",
       "      <td>No</td>\n",
       "      <td>43</td>\n",
       "    </tr>\n",
       "  </tbody>\n",
       "</table>\n",
       "</div>"
      ],
      "text/plain": [
       "                     name                                            address  \\\n",
       "8440             Kalingas          399, 16th Main, N.S Palya, BTM, Bangalore   \n",
       "23575    Angel Restaurant  1st Cross, Bilekahalli, Near IIMB College, Ban...   \n",
       "16711      Cafe Talkhouse  4rd floor, 7th Cross, Opposite to BMTC Bus Dep...   \n",
       "42588      Paratha Xpress  17/1 Cambridge Road, Opposite The Frank Antony...   \n",
       "5266   Classic Lassi Shop  Skywalk, 5/1, Near Body Craft, Assaye Road, Ul...   \n",
       "\n",
       "                location                            cuisines restaurant_type  \\\n",
       "8440                 btm                    oriya, fast food     quick bites   \n",
       "23575  bannerghatta road  kerala, south indian, north indian     quick bites   \n",
       "16711                hsr                        north indian     quick bites   \n",
       "42588             ulsoor               north indian, chinese     quick bites   \n",
       "5266              ulsoor                beverages, ice cream   beverage shop   \n",
       "\n",
       "                                          embedding_text  rating   cost  \\\n",
       "8440   cuisines: oriya, fast food | type: quick bites...     3.9  250.0   \n",
       "23575  cuisines: kerala, south indian, north indian |...     2.8  450.0   \n",
       "16711  cuisines: north indian | type: quick bites | l...     3.8  400.0   \n",
       "42588  cuisines: north indian, chinese | type: quick ...     3.5  200.0   \n",
       "5266   cuisines: beverages, ice cream | type: beverag...     3.5  150.0   \n",
       "\n",
       "       rating_normalized  cost_normalized  votes_normalized online_order  \\\n",
       "8440                0.78         0.051724          0.533646          Yes   \n",
       "23575               0.56         0.100985          0.525325          Yes   \n",
       "16711               0.76         0.088670          0.326587           No   \n",
       "42588               0.70         0.039409          0.225794           No   \n",
       "5266                0.70         0.027094          0.388876          Yes   \n",
       "\n",
       "      book_table  votes  \n",
       "8440          No    179  \n",
       "23575         No    165  \n",
       "16711         No     23  \n",
       "42588         No      8  \n",
       "5266          No     43  "
      ]
     },
     "execution_count": 12,
     "metadata": {},
     "output_type": "execute_result"
    }
   ],
   "source": [
    "import os\n",
    "\n",
    "# Create output directory\n",
    "os.makedirs('../processed_data', exist_ok=True)\n",
    "\n",
    "# Save the processed data\n",
    "embedding_data.to_csv('../processed_data/restaurants_for_embedding.csv', index=False)\n",
    "\n",
    "print(\"Data saved to '../processed_data/restaurants_for_embedding.csv'\")\n",
    "print(f\"Ready for embedding with {len(embedding_data)} restaurants\")\n",
    "\n",
    "\n",
    "# Display final summary\n",
    "print(\"\\n=== FINAL DATASET SUMMARY ===\")\n",
    "print(f\"Total restaurants: {len(embedding_data)}\")\n",
    "print(f\"Columns: {list(embedding_data.columns)}\")\n",
    "print(f\"\\nNumerical features summary:\")\n",
    "print(embedding_data[['rating', 'cost', 'votes', 'rating_normalized', 'cost_normalized', 'votes_normalized']].describe())\n",
    "\n",
    "\n",
    "# Preview the final data\n",
    "print(\"\\n=== DATA PREVIEW ===\")\n",
    "embedding_data.head()"
   ]
  },
  {
   "cell_type": "code",
   "execution_count": null,
   "id": "9f62d943",
   "metadata": {},
   "outputs": [],
   "source": []
  }
 ],
 "metadata": {
  "kernelspec": {
   "display_name": "recommendation-system (3.11.12)",
   "language": "python",
   "name": "python3"
  },
  "language_info": {
   "codemirror_mode": {
    "name": "ipython",
    "version": 3
   },
   "file_extension": ".py",
   "mimetype": "text/x-python",
   "name": "python",
   "nbconvert_exporter": "python",
   "pygments_lexer": "ipython3",
   "version": "3.11.12"
  }
 },
 "nbformat": 4,
 "nbformat_minor": 5
}

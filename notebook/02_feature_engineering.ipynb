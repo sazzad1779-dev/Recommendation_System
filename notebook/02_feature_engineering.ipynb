{
 "cells": [
  {
   "cell_type": "markdown",
   "id": "07d41067",
   "metadata": {},
   "source": [
    "## Import Library"
   ]
  },
  {
   "cell_type": "code",
   "execution_count": 1,
   "id": "a9b05f3c",
   "metadata": {},
   "outputs": [
    {
     "name": "stdout",
     "output_type": "stream",
     "text": [
      "Original dataset shape: (15515, 17)\n"
     ]
    }
   ],
   "source": [
    "import pandas as pd\n",
    "import numpy as np\n",
    "from sklearn.feature_extraction.text import TfidfVectorizer\n",
    "from sklearn.preprocessing import StandardScaler, LabelEncoder, MultiLabelBinarizer\n",
    "from sklearn.model_selection import train_test_split\n",
    "import re\n",
    "import ast\n",
    "\n",
    "# Load the dataset\n",
    "df = pd.read_csv(r'D:\\development\\recommendation_system\\data\\zomato.csv').sample(frac=0.3, random_state=42)\n",
    "print(f\"Original dataset shape: {df.shape}\")"
   ]
  },
  {
   "cell_type": "code",
   "execution_count": 2,
   "id": "8107632a",
   "metadata": {},
   "outputs": [
    {
     "data": {
      "text/plain": [
       "url                               0\n",
       "address                           0\n",
       "name                              0\n",
       "online_order                      0\n",
       "book_table                        0\n",
       "rate                           2347\n",
       "votes                             0\n",
       "phone                           389\n",
       "location                          8\n",
       "rest_type                        84\n",
       "dish_liked                     8426\n",
       "cuisines                         15\n",
       "approx_cost(for two people)     115\n",
       "reviews_list                      0\n",
       "menu_item                         0\n",
       "listed_in(type)                   0\n",
       "listed_in(city)                   0\n",
       "dtype: int64"
      ]
     },
     "execution_count": 2,
     "metadata": {},
     "output_type": "execute_result"
    }
   ],
   "source": [
    "df.isnull().sum()"
   ]
  },
  {
   "cell_type": "code",
   "execution_count": 3,
   "id": "555b33ef",
   "metadata": {},
   "outputs": [
    {
     "data": {
      "text/html": [
       "<div>\n",
       "<style scoped>\n",
       "    .dataframe tbody tr th:only-of-type {\n",
       "        vertical-align: middle;\n",
       "    }\n",
       "\n",
       "    .dataframe tbody tr th {\n",
       "        vertical-align: top;\n",
       "    }\n",
       "\n",
       "    .dataframe thead th {\n",
       "        text-align: right;\n",
       "    }\n",
       "</style>\n",
       "<table border=\"1\" class=\"dataframe\">\n",
       "  <thead>\n",
       "    <tr style=\"text-align: right;\">\n",
       "      <th></th>\n",
       "      <th>url</th>\n",
       "      <th>address</th>\n",
       "      <th>name</th>\n",
       "      <th>online_order</th>\n",
       "      <th>book_table</th>\n",
       "      <th>rate</th>\n",
       "      <th>votes</th>\n",
       "      <th>phone</th>\n",
       "      <th>location</th>\n",
       "      <th>rest_type</th>\n",
       "      <th>dish_liked</th>\n",
       "      <th>cuisines</th>\n",
       "      <th>approx_cost(for two people)</th>\n",
       "      <th>reviews_list</th>\n",
       "      <th>menu_item</th>\n",
       "      <th>listed_in(type)</th>\n",
       "      <th>listed_in(city)</th>\n",
       "    </tr>\n",
       "  </thead>\n",
       "  <tbody>\n",
       "    <tr>\n",
       "      <th>8440</th>\n",
       "      <td>https://www.zomato.com/bangalore/kalingas-btm?...</td>\n",
       "      <td>399, 16th Main, N.S Palya, BTM, Bangalore</td>\n",
       "      <td>Kalingas</td>\n",
       "      <td>Yes</td>\n",
       "      <td>No</td>\n",
       "      <td>3.9/5</td>\n",
       "      <td>179</td>\n",
       "      <td>080 42038180</td>\n",
       "      <td>BTM</td>\n",
       "      <td>Quick Bites</td>\n",
       "      <td>Rasgulla, Mutton Kosha, Chicken Kasha, Samosa ...</td>\n",
       "      <td>Oriya, Fast Food</td>\n",
       "      <td>250</td>\n",
       "      <td>[('Rated 3.0', 'RATED\\n  A pocket friendly foo...</td>\n",
       "      <td>[]</td>\n",
       "      <td>Delivery</td>\n",
       "      <td>BTM</td>\n",
       "    </tr>\n",
       "    <tr>\n",
       "      <th>23575</th>\n",
       "      <td>https://www.zomato.com/bangalore/angel-restaur...</td>\n",
       "      <td>1st Cross, Bilekahalli, Near IIMB College, Ban...</td>\n",
       "      <td>Angel Restaurant</td>\n",
       "      <td>Yes</td>\n",
       "      <td>No</td>\n",
       "      <td>2.8/5</td>\n",
       "      <td>165</td>\n",
       "      <td>+91 9035699847\\r\\n+91 9880714970</td>\n",
       "      <td>Bannerghatta Road</td>\n",
       "      <td>Quick Bites</td>\n",
       "      <td>NaN</td>\n",
       "      <td>Kerala, South Indian, North Indian</td>\n",
       "      <td>450</td>\n",
       "      <td>[('Rated 1.0', 'RATED\\n  I cannot say a word a...</td>\n",
       "      <td>['Kappa', 'Kappa Biryani', 'Chicken Biryani', ...</td>\n",
       "      <td>Dine-out</td>\n",
       "      <td>JP Nagar</td>\n",
       "    </tr>\n",
       "    <tr>\n",
       "      <th>16711</th>\n",
       "      <td>https://www.zomato.com/bangalore/cafe-talkhous...</td>\n",
       "      <td>4rd floor, 7th Cross, Opposite to BMTC Bus Dep...</td>\n",
       "      <td>Cafe Talkhouse</td>\n",
       "      <td>No</td>\n",
       "      <td>No</td>\n",
       "      <td>3.8/5</td>\n",
       "      <td>23</td>\n",
       "      <td>NaN</td>\n",
       "      <td>HSR</td>\n",
       "      <td>Quick Bites</td>\n",
       "      <td>NaN</td>\n",
       "      <td>North Indian</td>\n",
       "      <td>NaN</td>\n",
       "      <td>[('Rated 5.0', 'RATED\\n  Have been to this pla...</td>\n",
       "      <td>[]</td>\n",
       "      <td>Delivery</td>\n",
       "      <td>HSR</td>\n",
       "    </tr>\n",
       "    <tr>\n",
       "      <th>42588</th>\n",
       "      <td>https://www.zomato.com/bangalore/paratha-xpres...</td>\n",
       "      <td>17/1 Cambridge Road, Opposite The Frank Antony...</td>\n",
       "      <td>Paratha Xpress</td>\n",
       "      <td>No</td>\n",
       "      <td>No</td>\n",
       "      <td>3.5 /5</td>\n",
       "      <td>8</td>\n",
       "      <td>065535 07908402366</td>\n",
       "      <td>Ulsoor</td>\n",
       "      <td>Quick Bites</td>\n",
       "      <td>NaN</td>\n",
       "      <td>North Indian, Chinese</td>\n",
       "      <td>200</td>\n",
       "      <td>[('Rated 5.0', 'RATED\\n  good job!'), ('Rated ...</td>\n",
       "      <td>[]</td>\n",
       "      <td>Delivery</td>\n",
       "      <td>MG Road</td>\n",
       "    </tr>\n",
       "    <tr>\n",
       "      <th>5266</th>\n",
       "      <td>https://www.zomato.com/bangalore/classic-lassi...</td>\n",
       "      <td>Skywalk, 5/1, Near Body Craft, Assaye Road, Ul...</td>\n",
       "      <td>Classic Lassi Shop</td>\n",
       "      <td>Yes</td>\n",
       "      <td>No</td>\n",
       "      <td>3.5/5</td>\n",
       "      <td>43</td>\n",
       "      <td>+91 8792958786\\r\\r\\n+91 8073579529</td>\n",
       "      <td>Ulsoor</td>\n",
       "      <td>Beverage Shop</td>\n",
       "      <td>NaN</td>\n",
       "      <td>Beverages, Ice Cream</td>\n",
       "      <td>150</td>\n",
       "      <td>[('Rated 3.0', 'RATED\\n  I have mixed feeling ...</td>\n",
       "      <td>['Fruit Salad with Ice Cream', 'Brownie with I...</td>\n",
       "      <td>Delivery</td>\n",
       "      <td>Brigade Road</td>\n",
       "    </tr>\n",
       "  </tbody>\n",
       "</table>\n",
       "</div>"
      ],
      "text/plain": [
       "                                                     url  \\\n",
       "8440   https://www.zomato.com/bangalore/kalingas-btm?...   \n",
       "23575  https://www.zomato.com/bangalore/angel-restaur...   \n",
       "16711  https://www.zomato.com/bangalore/cafe-talkhous...   \n",
       "42588  https://www.zomato.com/bangalore/paratha-xpres...   \n",
       "5266   https://www.zomato.com/bangalore/classic-lassi...   \n",
       "\n",
       "                                                 address                name  \\\n",
       "8440           399, 16th Main, N.S Palya, BTM, Bangalore            Kalingas   \n",
       "23575  1st Cross, Bilekahalli, Near IIMB College, Ban...    Angel Restaurant   \n",
       "16711  4rd floor, 7th Cross, Opposite to BMTC Bus Dep...      Cafe Talkhouse   \n",
       "42588  17/1 Cambridge Road, Opposite The Frank Antony...      Paratha Xpress   \n",
       "5266   Skywalk, 5/1, Near Body Craft, Assaye Road, Ul...  Classic Lassi Shop   \n",
       "\n",
       "      online_order book_table    rate  votes  \\\n",
       "8440           Yes         No   3.9/5    179   \n",
       "23575          Yes         No   2.8/5    165   \n",
       "16711           No         No   3.8/5     23   \n",
       "42588           No         No  3.5 /5      8   \n",
       "5266           Yes         No   3.5/5     43   \n",
       "\n",
       "                                    phone           location      rest_type  \\\n",
       "8440                         080 42038180                BTM    Quick Bites   \n",
       "23575    +91 9035699847\\r\\n+91 9880714970  Bannerghatta Road    Quick Bites   \n",
       "16711                                 NaN                HSR    Quick Bites   \n",
       "42588                  065535 07908402366             Ulsoor    Quick Bites   \n",
       "5266   +91 8792958786\\r\\r\\n+91 8073579529             Ulsoor  Beverage Shop   \n",
       "\n",
       "                                              dish_liked  \\\n",
       "8440   Rasgulla, Mutton Kosha, Chicken Kasha, Samosa ...   \n",
       "23575                                                NaN   \n",
       "16711                                                NaN   \n",
       "42588                                                NaN   \n",
       "5266                                                 NaN   \n",
       "\n",
       "                                 cuisines approx_cost(for two people)  \\\n",
       "8440                     Oriya, Fast Food                         250   \n",
       "23575  Kerala, South Indian, North Indian                         450   \n",
       "16711                        North Indian                         NaN   \n",
       "42588               North Indian, Chinese                         200   \n",
       "5266                 Beverages, Ice Cream                         150   \n",
       "\n",
       "                                            reviews_list  \\\n",
       "8440   [('Rated 3.0', 'RATED\\n  A pocket friendly foo...   \n",
       "23575  [('Rated 1.0', 'RATED\\n  I cannot say a word a...   \n",
       "16711  [('Rated 5.0', 'RATED\\n  Have been to this pla...   \n",
       "42588  [('Rated 5.0', 'RATED\\n  good job!'), ('Rated ...   \n",
       "5266   [('Rated 3.0', 'RATED\\n  I have mixed feeling ...   \n",
       "\n",
       "                                               menu_item listed_in(type)  \\\n",
       "8440                                                  []        Delivery   \n",
       "23575  ['Kappa', 'Kappa Biryani', 'Chicken Biryani', ...        Dine-out   \n",
       "16711                                                 []        Delivery   \n",
       "42588                                                 []        Delivery   \n",
       "5266   ['Fruit Salad with Ice Cream', 'Brownie with I...        Delivery   \n",
       "\n",
       "      listed_in(city)  \n",
       "8440              BTM  \n",
       "23575        JP Nagar  \n",
       "16711             HSR  \n",
       "42588         MG Road  \n",
       "5266     Brigade Road  "
      ]
     },
     "execution_count": 3,
     "metadata": {},
     "output_type": "execute_result"
    }
   ],
   "source": [
    "df.head()"
   ]
  },
  {
   "cell_type": "markdown",
   "id": "94598309",
   "metadata": {},
   "source": [
    "### Data Cleaning"
   ]
  },
  {
   "cell_type": "code",
   "execution_count": 4,
   "id": "9f0c23d0",
   "metadata": {},
   "outputs": [
    {
     "data": {
      "text/plain": [
       "rate\n",
       "NEW       649\n",
       "3.9/5     636\n",
       "3.8/5     636\n",
       "3.7/5     613\n",
       "3.9 /5    606\n",
       "         ... \n",
       "2.2 /5      3\n",
       "2.1 /5      3\n",
       "2.1/5       2\n",
       "1.8 /5      1\n",
       "2.0/5       1\n",
       "Name: count, Length: 62, dtype: int64"
      ]
     },
     "execution_count": 4,
     "metadata": {},
     "output_type": "execute_result"
    }
   ],
   "source": [
    "df.rate.value_counts()"
   ]
  },
  {
   "cell_type": "code",
   "execution_count": 15,
   "id": "be6b1e51",
   "metadata": {},
   "outputs": [
    {
     "data": {
      "text/plain": [
       "8440                           080 42038180\n",
       "23575      +91 9035699847\\r\\n+91 9880714970\n",
       "16711                                   NaN\n",
       "42588                    065535 07908402366\n",
       "5266     +91 8792958786\\r\\r\\n+91 8073579529\n",
       "24663                        +91 9008577879\n",
       "21824                          080 41247022\n",
       "23715                        +91 9900275325\n",
       "31303                        +91 8043707570\n",
       "10675                        +91 9611118091\n",
       "Name: phone, dtype: object"
      ]
     },
     "execution_count": 15,
     "metadata": {},
     "output_type": "execute_result"
    }
   ],
   "source": [
    "df.phone.head(10)"
   ]
  },
  {
   "cell_type": "code",
   "execution_count": 28,
   "id": "3985b0f4",
   "metadata": {},
   "outputs": [
    {
     "name": "stdout",
     "output_type": "stream",
     "text": [
      "=== AFTER CLEANING ===\n",
      "Dataset shape: (15515, 20)\n",
      "Missing ratings: 3018\n",
      "Missing costs: 115\n"
     ]
    }
   ],
   "source": [
    "# Create a copy for feature engineering\n",
    "df_clean = df.copy()\n",
    "\n",
    "# 1. Clean rating column\n",
    "def clean_rating(rate):\n",
    "    if pd.isna(rate) or rate in ['NEW', '-', 'nan']:\n",
    "        return np.nan\n",
    "    try:\n",
    "        return float(rate.split('/')[0])\n",
    "    except:\n",
    "        return np.nan\n",
    "\n",
    "df_clean['rating'] = df_clean['rate'].apply(clean_rating)\n",
    "\n",
    "# 2. Clean cost column\n",
    "def clean_cost(cost):\n",
    "    if pd.isna(cost):\n",
    "        return np.nan\n",
    "    try:\n",
    "        # Remove commas and currency symbols\n",
    "        cost_str = str(cost).replace(',', '').replace('₹', '').strip()\n",
    "        return float(cost_str)\n",
    "    except:\n",
    "        return np.nan\n",
    "\n",
    "df_clean['cost_for_two'] = df_clean['approx_cost(for two people)'].apply(clean_cost)\n",
    "\n",
    "# 3. Clean phone numbers\n",
    "# df_clean['phone_clean'] = df_clean['phone'].str.replace(r'\\r\\n.*', '', regex=True)\n",
    "# Fill NaN with empty string, then split multiple numbers\n",
    "df_clean['phone_clean'] = (\n",
    "    df['phone']\n",
    "    .fillna('Not Specified')                               # handle NaN\n",
    "    .str.split(r'\\r\\n|\\r\\r\\n')                # split on line breaks\n",
    ")\n",
    "\n",
    "# Keep only the first number (if you don’t want a list)\n",
    "df_clean['phone_clean'] = df_clean['phone_clean'].str[0]\n",
    "# 4. Handle missing values with meaningful defaults\n",
    "df_clean.fillna({\n",
    "    'location': 'Unknown',\n",
    "    'rest_type': 'Not Specified',\n",
    "    'cuisines': 'Not Specified',\n",
    "    'dish_liked': ''\n",
    "}, inplace=True)\n",
    "\n",
    "print(\"=== AFTER CLEANING ===\")\n",
    "print(f\"Dataset shape: {df_clean.shape}\")\n",
    "print(f\"Missing ratings: {df_clean['rating'].isna().sum()}\")\n",
    "print(f\"Missing costs: {df_clean['cost_for_two'].isna().sum()}\")"
   ]
  },
  {
   "cell_type": "code",
   "execution_count": 29,
   "id": "74057497",
   "metadata": {},
   "outputs": [
    {
     "data": {
      "text/plain": [
       "(8440           080 42038180\n",
       " 23575        +91 9035699847\n",
       " 16711         Not Specified\n",
       " 42588    065535 07908402366\n",
       " 5266         +91 8792958786\n",
       " 24663        +91 9008577879\n",
       " 21824          080 41247022\n",
       " 23715        +91 9900275325\n",
       " 31303        +91 8043707570\n",
       " 10675        +91 9611118091\n",
       " Name: phone_clean, dtype: object,\n",
       " np.int64(0))"
      ]
     },
     "execution_count": 29,
     "metadata": {},
     "output_type": "execute_result"
    }
   ],
   "source": [
    "df_clean.phone_clean.head(10),df_clean.phone_clean.isnull().sum()"
   ]
  },
  {
   "cell_type": "markdown",
   "id": "79018aaf",
   "metadata": {},
   "source": [
    "### Text Feature Engineering"
   ]
  },
  {
   "cell_type": "code",
   "execution_count": 30,
   "id": "b8a267b4",
   "metadata": {},
   "outputs": [
    {
     "name": "stdout",
     "output_type": "stream",
     "text": [
      "=== TEXT PROCESSING COMPLETE ===\n",
      "Average cuisines per restaurant: 2.5\n",
      "Restaurants with dishes mentioned: 7089\n"
     ]
    }
   ],
   "source": [
    "# 1. Process cuisines (convert to list format)\n",
    "def process_cuisines(cuisines):\n",
    "    if pd.isna(cuisines) or cuisines == 'Not Specified':\n",
    "        return []\n",
    "    return [cuisine.strip().lower() for cuisine in cuisines.split(',')]\n",
    "\n",
    "df_clean['cuisine_list'] = df_clean['cuisines'].apply(process_cuisines)\n",
    "\n",
    "# 2. Process dishes liked\n",
    "def process_dishes(dishes):\n",
    "    if pd.isna(dishes) or dishes == '':\n",
    "        return []\n",
    "    return [dish.strip().lower() for dish in dishes.split(',')]\n",
    "\n",
    "df_clean['dish_list'] = df_clean['dish_liked'].apply(process_dishes)\n",
    "\n",
    "# 3. Create combined text features for similarity\n",
    "df_clean['combined_features'] = (\n",
    "    df_clean['cuisines'].fillna('') + ' ' + \n",
    "    df_clean['dish_liked'].fillna('') + ' ' +\n",
    "    df_clean['rest_type'].fillna('')\n",
    ")\n",
    "\n",
    "# 4. Process reviews (extract text from reviews_list)\n",
    "def extract_review_text(reviews_list):\n",
    "    if pd.isna(reviews_list) or reviews_list == '[]':\n",
    "        return ''\n",
    "    try:\n",
    "        reviews = ast.literal_eval(reviews_list)\n",
    "        review_texts = []\n",
    "        for review in reviews:\n",
    "            if isinstance(review, tuple) and len(review) > 1:\n",
    "                review_texts.append(review[1])\n",
    "        return ' '.join(review_texts)\n",
    "    except:\n",
    "        return ''\n",
    "\n",
    "df_clean['review_text'] = df_clean['reviews_list'].apply(extract_review_text)\n",
    "\n",
    "print(\"=== TEXT PROCESSING COMPLETE ===\")\n",
    "print(f\"Average cuisines per restaurant: {df_clean['cuisine_list'].apply(len).mean():.1f}\")\n",
    "print(f\"Restaurants with dishes mentioned: {(df_clean['dish_list'].apply(len) > 0).sum()}\")"
   ]
  },
  {
   "cell_type": "code",
   "execution_count": 31,
   "id": "df8044d6",
   "metadata": {},
   "outputs": [
    {
     "data": {
      "text/plain": [
       "url                               0\n",
       "address                           0\n",
       "name                              0\n",
       "online_order                      0\n",
       "book_table                        0\n",
       "rate                           2347\n",
       "votes                             0\n",
       "phone                           389\n",
       "location                          0\n",
       "rest_type                         0\n",
       "dish_liked                        0\n",
       "cuisines                          0\n",
       "approx_cost(for two people)     115\n",
       "reviews_list                      0\n",
       "menu_item                         0\n",
       "listed_in(type)                   0\n",
       "listed_in(city)                   0\n",
       "rating                         3018\n",
       "cost_for_two                    115\n",
       "phone_clean                       0\n",
       "cuisine_list                      0\n",
       "dish_list                         0\n",
       "combined_features                 0\n",
       "review_text                       0\n",
       "dtype: int64"
      ]
     },
     "execution_count": 31,
     "metadata": {},
     "output_type": "execute_result"
    }
   ],
   "source": [
    "df_clean.isnull().sum()"
   ]
  },
  {
   "cell_type": "markdown",
   "id": "8cf45870",
   "metadata": {},
   "source": [
    "### Categorical Feature Engineering"
   ]
  },
  {
   "cell_type": "code",
   "execution_count": 33,
   "id": "dab321d6",
   "metadata": {},
   "outputs": [
    {
     "name": "stdout",
     "output_type": "stream",
     "text": [
      "=== CATEGORICAL ENCODING COMPLETE ===\n",
      "Location groups: 52\n",
      "Restaurant type groups: 36\n",
      "Price categories: price_category\n",
      "Mid-range    5730\n",
      "Budget       5536\n",
      "Expensive    3011\n",
      "Premium      1123\n",
      "Unknown       115\n",
      "Name: count, dtype: int64\n"
     ]
    }
   ],
   "source": [
    "# 1. Binary encode yes/no features\n",
    "df_clean['online_order_binary'] = (df_clean['online_order'] == 'Yes').astype(int)\n",
    "df_clean['book_table_binary'] = (df_clean['book_table'] == 'Yes').astype(int)\n",
    "\n",
    "# 2. Create location clusters (group less frequent locations)\n",
    "location_counts = df_clean['location'].value_counts()\n",
    "popular_locations = location_counts[location_counts >= 50].index\n",
    "df_clean['location_grouped'] = df_clean['location'].apply(\n",
    "    lambda x: x if x in popular_locations else 'Other'\n",
    ")\n",
    "\n",
    "# 3. Restaurant type grouping\n",
    "rest_type_counts = df_clean['rest_type'].value_counts()\n",
    "popular_rest_types = rest_type_counts[rest_type_counts >= 30].index\n",
    "df_clean['rest_type_grouped'] = df_clean['rest_type'].apply(\n",
    "    lambda x: x if x in popular_rest_types else 'Other'\n",
    ")\n",
    "\n",
    "# 4. Create price categories\n",
    "def categorize_price(cost):\n",
    "    if pd.isna(cost):\n",
    "        return 'Unknown'\n",
    "    elif cost <= 300:\n",
    "        return 'Budget'\n",
    "    elif cost <= 600:\n",
    "        return 'Mid-range'\n",
    "    elif cost <= 1200:\n",
    "        return 'Expensive'\n",
    "    else:\n",
    "        return 'Premium'\n",
    "\n",
    "df_clean['price_category'] = df_clean['cost_for_two'].apply(categorize_price)\n",
    "\n",
    "# 5. Create rating categories\n",
    "def categorize_rating(rating):\n",
    "    if pd.isna(rating):\n",
    "        return 'Unrated'\n",
    "    elif rating < 3.0:\n",
    "        return 'Poor'\n",
    "    elif rating < 3.5:\n",
    "        return 'Average'\n",
    "    elif rating < 4.0:\n",
    "        return 'Good'\n",
    "    else:\n",
    "        return 'Excellent'\n",
    "\n",
    "df_clean['rating_category'] = df_clean['rating'].apply(categorize_rating)\n",
    "\n",
    "print(\"=== CATEGORICAL ENCODING COMPLETE ===\")\n",
    "print(f\"Location groups: {df_clean['location_grouped'].nunique()}\")\n",
    "print(f\"Restaurant type groups: {df_clean['rest_type_grouped'].nunique()}\")\n",
    "print(f\"Price categories: {df_clean['price_category'].value_counts()}\")"
   ]
  },
  {
   "cell_type": "code",
   "execution_count": 34,
   "id": "4d83a600",
   "metadata": {},
   "outputs": [
    {
     "data": {
      "text/plain": [
       "url                               0\n",
       "address                           0\n",
       "name                              0\n",
       "online_order                      0\n",
       "book_table                        0\n",
       "rate                           2347\n",
       "votes                             0\n",
       "phone                           389\n",
       "location                          0\n",
       "rest_type                         0\n",
       "dish_liked                        0\n",
       "cuisines                          0\n",
       "approx_cost(for two people)     115\n",
       "reviews_list                      0\n",
       "menu_item                         0\n",
       "listed_in(type)                   0\n",
       "listed_in(city)                   0\n",
       "rating                         3018\n",
       "cost_for_two                    115\n",
       "phone_clean                       0\n",
       "cuisine_list                      0\n",
       "dish_list                         0\n",
       "combined_features                 0\n",
       "review_text                       0\n",
       "online_order_binary               0\n",
       "book_table_binary                 0\n",
       "location_grouped                  0\n",
       "rest_type_grouped                 0\n",
       "price_category                    0\n",
       "rating_category                   0\n",
       "dtype: int64"
      ]
     },
     "execution_count": 34,
     "metadata": {},
     "output_type": "execute_result"
    }
   ],
   "source": [
    "df_clean.isnull().sum()"
   ]
  },
  {
   "cell_type": "markdown",
   "id": "52c4b3e4",
   "metadata": {},
   "source": [
    "###  Numerical Feature Engineering"
   ]
  },
  {
   "cell_type": "code",
   "execution_count": null,
   "id": "5a82e9ae",
   "metadata": {},
   "outputs": [],
   "source": [
    "# # 1. Handle missing numerical values\n",
    "# df_clean['rating'].fillna(df_clean['rating'].median(), inplace=True)\n",
    "# df_clean['cost_for_two'].fillna(df_clean['cost_for_two'].median(), inplace=True)\n",
    "# df_clean['votes'].fillna(0, inplace=True)\n",
    "\n",
    "# # 2. Create derived numerical features\n",
    "# df_clean['rating_votes_ratio'] = df_clean['rating'] * np.log1p(df_clean['votes'])\n",
    "# df_clean['cost_per_rating'] = df_clean['cost_for_two'] / (df_clean['rating'] + 0.1)  # Avoid division by zero\n",
    "# df_clean['popularity_score'] = np.log1p(df_clean['votes']) * df_clean['rating']\n",
    "\n",
    "# # 3. Normalize numerical features\n",
    "# scaler = StandardScaler()\n",
    "# numerical_features = ['rating', 'cost_for_two', 'votes', 'rating_votes_ratio', 'popularity_score']\n",
    "# df_clean[['rating_scaled', 'cost_scaled', 'votes_scaled', 'ratio_scaled', 'popularity_scaled']] = \\\n",
    "#     scaler.fit_transform(df_clean[numerical_features])\n",
    "\n",
    "# print(\"=== NUMERICAL FEATURE ENGINEERING COMPLETE ===\")\n",
    "# print(\"New numerical features created:\")\n",
    "# for feature in ['rating_votes_ratio', 'cost_per_rating', 'popularity_score']:\n",
    "#     print(f\"  {feature}: mean={df_clean[feature].mean():.3f}, std={df_clean[feature].std():.3f}\")"
   ]
  },
  {
   "cell_type": "code",
   "execution_count": 35,
   "id": "895b2f75",
   "metadata": {},
   "outputs": [
    {
     "name": "stdout",
     "output_type": "stream",
     "text": [
      "=== NUMERICAL FEATURE ENGINEERING COMPLETE ===\n",
      "New numerical features created:\n",
      "  rating_votes_ratio: mean=13.675, std=9.763\n",
      "  cost_per_rating: mean=143.478, std=103.035\n",
      "  popularity_score: mean=13.675, std=9.763\n"
     ]
    }
   ],
   "source": [
    "from sklearn.preprocessing import StandardScaler\n",
    "import numpy as np\n",
    "\n",
    "# 1. Handle missing numerical values (no inplace warnings)\n",
    "df_clean['rating'] = df_clean['rating'].fillna(df_clean['rating'].median())\n",
    "df_clean['cost_for_two'] = df_clean['cost_for_two'].fillna(df_clean['cost_for_two'].median())\n",
    "df_clean['votes'] = df_clean['votes'].fillna(0)\n",
    "\n",
    "# 2. Create derived numerical features\n",
    "df_clean['rating_votes_ratio'] = df_clean['rating'] * np.log1p(df_clean['votes'])\n",
    "df_clean['cost_per_rating'] = df_clean['cost_for_two'] / (df_clean['rating'] + 0.1)  # Avoid division by zero\n",
    "df_clean['popularity_score'] = np.log1p(df_clean['votes']) * df_clean['rating']\n",
    "\n",
    "# 3. Normalize numerical features\n",
    "scaler = StandardScaler()\n",
    "numerical_features = ['rating', 'cost_for_two', 'votes', 'rating_votes_ratio', 'popularity_score']\n",
    "df_clean[['rating_scaled', 'cost_scaled', 'votes_scaled', 'ratio_scaled', 'popularity_scaled']] = (\n",
    "    scaler.fit_transform(df_clean[numerical_features])\n",
    ")\n",
    "\n",
    "# 4. Summary\n",
    "print(\"=== NUMERICAL FEATURE ENGINEERING COMPLETE ===\")\n",
    "print(\"New numerical features created:\")\n",
    "for feature in ['rating_votes_ratio', 'cost_per_rating', 'popularity_score']:\n",
    "    print(f\"  {feature}: mean={df_clean[feature].mean():.3f}, std={df_clean[feature].std():.3f}\")\n"
   ]
  },
  {
   "cell_type": "code",
   "execution_count": 36,
   "id": "dfc211f3",
   "metadata": {},
   "outputs": [
    {
     "data": {
      "text/plain": [
       "url                               0\n",
       "address                           0\n",
       "name                              0\n",
       "online_order                      0\n",
       "book_table                        0\n",
       "rate                           2347\n",
       "votes                             0\n",
       "phone                           389\n",
       "location                          0\n",
       "rest_type                         0\n",
       "dish_liked                        0\n",
       "cuisines                          0\n",
       "approx_cost(for two people)     115\n",
       "reviews_list                      0\n",
       "menu_item                         0\n",
       "listed_in(type)                   0\n",
       "listed_in(city)                   0\n",
       "rating                            0\n",
       "cost_for_two                      0\n",
       "phone_clean                       0\n",
       "cuisine_list                      0\n",
       "dish_list                         0\n",
       "combined_features                 0\n",
       "review_text                       0\n",
       "online_order_binary               0\n",
       "book_table_binary                 0\n",
       "location_grouped                  0\n",
       "rest_type_grouped                 0\n",
       "price_category                    0\n",
       "rating_category                   0\n",
       "rating_votes_ratio                0\n",
       "cost_per_rating                   0\n",
       "popularity_score                  0\n",
       "rating_scaled                     0\n",
       "cost_scaled                       0\n",
       "votes_scaled                      0\n",
       "ratio_scaled                      0\n",
       "popularity_scaled                 0\n",
       "dtype: int64"
      ]
     },
     "execution_count": 36,
     "metadata": {},
     "output_type": "execute_result"
    }
   ],
   "source": [
    "df_clean.isnull().sum()"
   ]
  },
  {
   "cell_type": "markdown",
   "id": "a276b79d",
   "metadata": {},
   "source": [
    "### Advanced Feature Engineering"
   ]
  },
  {
   "cell_type": "code",
   "execution_count": 38,
   "id": "92b86896",
   "metadata": {},
   "outputs": [
    {
     "name": "stdout",
     "output_type": "stream",
     "text": [
      "=== ADVANCED FEATURE ENGINEERING COMPLETE ===\n",
      "Cuisine features: 104\n",
      "TF-IDF features: 100\n",
      "Location features: 52\n",
      "Restaurant type features: 36\n"
     ]
    }
   ],
   "source": [
    "# 1. Cuisine similarity features using MultiLabelBinarizer\n",
    "mlb_cuisine = MultiLabelBinarizer()\n",
    "cuisine_encoded = mlb_cuisine.fit_transform(df_clean['cuisine_list'])\n",
    "cuisine_df = pd.DataFrame(cuisine_encoded, columns=mlb_cuisine.classes_)\n",
    "\n",
    "# Add prefix to avoid column name conflicts\n",
    "cuisine_df.columns = ['cuisine_' + col for col in cuisine_df.columns]\n",
    "\n",
    "# 2. TF-IDF features for text similarity\n",
    "tfidf_combined = TfidfVectorizer(\n",
    "    max_features=100,\n",
    "    stop_words='english',\n",
    "    ngram_range=(1, 2),\n",
    "    min_df=2\n",
    ")\n",
    "tfidf_features = tfidf_combined.fit_transform(df_clean['combined_features'])\n",
    "tfidf_df = pd.DataFrame(\n",
    "    tfidf_features.toarray(), \n",
    "    columns=['tfidf_' + str(i) for i in range(tfidf_features.shape[1])]\n",
    ")\n",
    "\n",
    "# 3. Location encoding (one-hot for grouped locations)\n",
    "location_encoded = pd.get_dummies(df_clean['location_grouped'], prefix='location')\n",
    "\n",
    "# 4. Restaurant type encoding\n",
    "rest_type_encoded = pd.get_dummies(df_clean['rest_type_grouped'], prefix='rest_type')\n",
    "\n",
    "# 5. Service features\n",
    "service_df = df_clean[['online_order_binary', 'book_table_binary']].copy()\n",
    "\n",
    "print(\"=== ADVANCED FEATURE ENGINEERING COMPLETE ===\")\n",
    "print(f\"Cuisine features: {cuisine_df.shape[1]}\")\n",
    "print(f\"TF-IDF features: {tfidf_df.shape[1]}\")\n",
    "print(f\"Location features: {location_encoded.shape[1]}\")\n",
    "print(f\"Restaurant type features: {rest_type_encoded.shape[1]}\")"
   ]
  },
  {
   "cell_type": "markdown",
   "id": "54150d2c",
   "metadata": {},
   "source": [
    "### Create Final Feature Matrix"
   ]
  },
  {
   "cell_type": "code",
   "execution_count": 39,
   "id": "e329aab3",
   "metadata": {},
   "outputs": [
    {
     "name": "stdout",
     "output_type": "stream",
     "text": [
      "=== FEATURE MATRIX CREATION COMPLETE ===\n",
      "Final feature matrix shape: (26330, 298)\n",
      "Features per category:\n",
      "  numerical: 4 features\n",
      "  categorical: 2 features\n",
      "  services: 2 features\n",
      "  cuisines: 104 features\n",
      "  location: 52 features\n",
      "  rest_type: 36 features\n",
      "  tfidf: 100 features\n",
      "\n",
      "=== FEATURE STATISTICS ===\n",
      "Top 10 features by variance:\n",
      "cost_scaled                1.000064\n",
      "rating_scaled              1.000064\n",
      "votes_scaled               1.000064\n",
      "popularity_scaled          1.000064\n",
      "cuisine_north indian       0.241949\n",
      "online_order_binary        0.241844\n",
      "rest_type_Quick Bites       0.23324\n",
      "cuisine_chinese            0.212163\n",
      "rest_type_Casual Dining    0.159739\n",
      "cuisine_south indian       0.137742\n",
      "dtype: object\n"
     ]
    }
   ],
   "source": [
    "# Combine all features for similarity calculation\n",
    "feature_matrices = {\n",
    "    'basic_info': df_clean[['name', 'address', 'phone_clean', 'location', 'cuisines']],\n",
    "    'numerical': df_clean[['rating_scaled', 'cost_scaled', 'votes_scaled', 'popularity_scaled']],\n",
    "    'categorical': df_clean[['price_category', 'rating_category']],\n",
    "    'services': service_df,\n",
    "    'cuisines': cuisine_df,\n",
    "    'location': location_encoded,\n",
    "    'rest_type': rest_type_encoded,\n",
    "    'tfidf': tfidf_df\n",
    "}\n",
    "\n",
    "# Create the main feature matrix for similarity (excluding basic info)\n",
    "similarity_features = pd.concat([\n",
    "    feature_matrices['numerical'],\n",
    "    feature_matrices['services'],\n",
    "    feature_matrices['cuisines'],\n",
    "    feature_matrices['location'],\n",
    "    feature_matrices['rest_type'],\n",
    "    feature_matrices['tfidf']\n",
    "], axis=1)\n",
    "\n",
    "# Save processed data\n",
    "df_clean.to_csv('processed_restaurant_data.csv', index=False)\n",
    "similarity_features.to_csv('similarity_features.csv', index=False)\n",
    "\n",
    "print(\"=== FEATURE MATRIX CREATION COMPLETE ===\")\n",
    "print(f\"Final feature matrix shape: {similarity_features.shape}\")\n",
    "print(f\"Features per category:\")\n",
    "for category, matrix in feature_matrices.items():\n",
    "    if category != 'basic_info':\n",
    "        print(f\"  {category}: {matrix.shape[1]} features\")\n",
    "\n",
    "# Display feature importance/variance\n",
    "print(\"\\n=== FEATURE STATISTICS ===\")\n",
    "feature_variance = similarity_features.var().sort_values(ascending=False)\n",
    "print(\"Top 10 features by variance:\")\n",
    "print(feature_variance.head(10))"
   ]
  },
  {
   "cell_type": "markdown",
   "id": "1a6f9ef7",
   "metadata": {},
   "source": [
    "### Create Different Feature Sets for Experimentation"
   ]
  },
  {
   "cell_type": "code",
   "execution_count": 40,
   "id": "1226ca3a",
   "metadata": {},
   "outputs": [
    {
     "name": "stdout",
     "output_type": "stream",
     "text": [
      "=== MULTIPLE FEATURE SETS CREATED ===\n",
      "Content-based features: (26330, 196)\n",
      "Text-based features: (26330, 102)\n",
      "Hybrid features: (26330, 298)\n"
     ]
    }
   ],
   "source": [
    "# Create multiple feature sets for different recommendation approaches\n",
    "\n",
    "# 1. Content-based features (cuisine + location + type + price)\n",
    "content_features = pd.concat([\n",
    "    feature_matrices['numerical'][['rating_scaled', 'cost_scaled']],\n",
    "    feature_matrices['services'],\n",
    "    feature_matrices['cuisines'],\n",
    "    feature_matrices['location'],\n",
    "    feature_matrices['rest_type']\n",
    "], axis=1)\n",
    "\n",
    "# 2. Text-based features (TF-IDF + rating + popularity)\n",
    "text_features = pd.concat([\n",
    "    feature_matrices['numerical'][['rating_scaled', 'popularity_scaled']],\n",
    "    feature_matrices['tfidf']\n",
    "], axis=1)\n",
    "\n",
    "# 3. Hybrid features (all combined with weights)\n",
    "hybrid_features = similarity_features.copy()\n",
    "\n",
    "# Apply feature weights (can be tuned based on domain knowledge)\n",
    "weight_config = {\n",
    "    'cuisine_weight': 2.0,\n",
    "    'location_weight': 1.5,\n",
    "    'price_weight': 1.2,\n",
    "    'rating_weight': 1.8,\n",
    "    'text_weight': 1.0\n",
    "}\n",
    "\n",
    "# Apply weights to cuisine features\n",
    "cuisine_cols = [col for col in hybrid_features.columns if col.startswith('cuisine_')]\n",
    "hybrid_features[cuisine_cols] *= weight_config['cuisine_weight']\n",
    "\n",
    "# Apply weights to location features\n",
    "location_cols = [col for col in hybrid_features.columns if col.startswith('location_')]\n",
    "hybrid_features[location_cols] *= weight_config['location_weight']\n",
    "\n",
    "# Apply weights to rating\n",
    "hybrid_features['rating_scaled'] *= weight_config['rating_weight']\n",
    "\n",
    "# Save different feature sets\n",
    "content_features.to_csv('content_features.csv', index=False)\n",
    "text_features.to_csv('text_features.csv', index=False)\n",
    "hybrid_features.to_csv('hybrid_features.csv', index=False)\n",
    "\n",
    "print(\"=== MULTIPLE FEATURE SETS CREATED ===\")\n",
    "print(f\"Content-based features: {content_features.shape}\")\n",
    "print(f\"Text-based features: {text_features.shape}\")\n",
    "print(f\"Hybrid features: {hybrid_features.shape}\")"
   ]
  },
  {
   "cell_type": "code",
   "execution_count": null,
   "id": "1ef50e63",
   "metadata": {},
   "outputs": [],
   "source": []
  }
 ],
 "metadata": {
  "kernelspec": {
   "display_name": "recommendation-system (3.11.12)",
   "language": "python",
   "name": "python3"
  },
  "language_info": {
   "codemirror_mode": {
    "name": "ipython",
    "version": 3
   },
   "file_extension": ".py",
   "mimetype": "text/x-python",
   "name": "python",
   "nbconvert_exporter": "python",
   "pygments_lexer": "ipython3",
   "version": "3.11.12"
  }
 },
 "nbformat": 4,
 "nbformat_minor": 5
}

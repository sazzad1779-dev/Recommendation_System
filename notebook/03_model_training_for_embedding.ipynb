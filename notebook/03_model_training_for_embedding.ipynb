{
 "cells": [
  {
   "cell_type": "code",
   "execution_count": 2,
   "id": "0c02028d",
   "metadata": {},
   "outputs": [
    {
     "name": "stderr",
     "output_type": "stream",
     "text": [
      "d:\\development\\Recommendation_System\\.venv\\Lib\\site-packages\\tqdm\\auto.py:21: TqdmWarning: IProgress not found. Please update jupyter and ipywidgets. See https://ipywidgets.readthedocs.io/en/stable/user_install.html\n",
      "  from .autonotebook import tqdm as notebook_tqdm\n"
     ]
    }
   ],
   "source": [
    "import pandas as pd\n",
    "import numpy as np\n",
    "from sentence_transformers import SentenceTransformer\n",
    "from sklearn.metrics.pairwise import cosine_similarity\n",
    "import pickle\n",
    "import os"
   ]
  },
  {
   "cell_type": "code",
   "execution_count": 3,
   "id": "14843c99",
   "metadata": {},
   "outputs": [
    {
     "name": "stdout",
     "output_type": "stream",
     "text": [
      "Loaded 10343 restaurants for embedding\n",
      "Columns: ['name', 'address', 'location', 'cuisines', 'restaurant_type', 'embedding_text', 'rating', 'cost', 'rating_normalized', 'cost_normalized', 'votes_normalized', 'online_order', 'book_table', 'votes']\n"
     ]
    }
   ],
   "source": [
    "embedding_data = pd.read_csv('../processed_data/restaurants_for_embedding.csv')\n",
    "print(f\"Loaded {len(embedding_data)} restaurants for embedding\")\n",
    "print(f\"Columns: {list(embedding_data.columns)}\")"
   ]
  },
  {
   "cell_type": "code",
   "execution_count": 4,
   "id": "c2b98795",
   "metadata": {},
   "outputs": [
    {
     "name": "stderr",
     "output_type": "stream",
     "text": [
      "d:\\development\\Recommendation_System\\.venv\\Lib\\site-packages\\huggingface_hub\\file_download.py:143: UserWarning: `huggingface_hub` cache-system uses symlinks by default to efficiently store duplicated files but your machine does not support them in C:\\Users\\keybo\\.cache\\huggingface\\hub\\models--sentence-transformers--all-MiniLM-L6-v2. Caching files will still work but in a degraded version that might require more space on your disk. This warning can be disabled by setting the `HF_HUB_DISABLE_SYMLINKS_WARNING` environment variable. For more details, see https://huggingface.co/docs/huggingface_hub/how-to-cache#limitations.\n",
      "To support symlinks on Windows, you either need to activate Developer Mode or to run Python as an administrator. In order to activate developer mode, see this article: https://docs.microsoft.com/en-us/windows/apps/get-started/enable-your-device-for-development\n",
      "  warnings.warn(message)\n",
      "Xet Storage is enabled for this repo, but the 'hf_xet' package is not installed. Falling back to regular HTTP download. For better performance, install the package with: `pip install huggingface_hub[hf_xet]` or `pip install hf_xet`\n"
     ]
    },
    {
     "name": "stdout",
     "output_type": "stream",
     "text": [
      "Loaded embedding model: SentenceTransformer(\n",
      "  (0): Transformer({'max_seq_length': 256, 'do_lower_case': False, 'architecture': 'BertModel'})\n",
      "  (1): Pooling({'word_embedding_dimension': 384, 'pooling_mode_cls_token': False, 'pooling_mode_mean_tokens': True, 'pooling_mode_max_tokens': False, 'pooling_mode_mean_sqrt_len_tokens': False, 'pooling_mode_weightedmean_tokens': False, 'pooling_mode_lasttoken': False, 'include_prompt': True})\n",
      "  (2): Normalize()\n",
      ")\n"
     ]
    }
   ],
   "source": [
    "model = SentenceTransformer('all-MiniLM-L6-v2')  # Fast and efficient model\n",
    "print(f\"Loaded embedding model: {model}\")"
   ]
  },
  {
   "cell_type": "code",
   "execution_count": 5,
   "id": "f793f7ad",
   "metadata": {},
   "outputs": [
    {
     "name": "stdout",
     "output_type": "stream",
     "text": [
      "Creating embeddings for 10343 restaurants...\n",
      "Sample text: cuisines: oriya, fast food | type: quick bites | location: btm | popular dishes: rasgulla, mutton kosha, chicken kasha, samosa chaat, kheer, veg thali | services: online ordering available\n"
     ]
    },
    {
     "name": "stderr",
     "output_type": "stream",
     "text": [
      "Batches: 100%|██████████| 324/324 [05:31<00:00,  1.02s/it]\n"
     ]
    },
    {
     "name": "stdout",
     "output_type": "stream",
     "text": [
      "Embeddings shape: (10343, 384)\n"
     ]
    }
   ],
   "source": [
    "restaurant_texts = embedding_data['embedding_text'].tolist()\n",
    "restaurant_names = embedding_data['name'].tolist()\n",
    "\n",
    "print(f\"Creating embeddings for {len(restaurant_texts)} restaurants...\")\n",
    "print(f\"Sample text: {restaurant_texts[0]}\")\n",
    "\n",
    "# %%\n",
    "# Generate embeddings\n",
    "embeddings = model.encode(restaurant_texts, show_progress_bar=True)\n",
    "print(f\"Embeddings shape: {embeddings.shape}\")"
   ]
  },
  {
   "cell_type": "code",
   "execution_count": 6,
   "id": "4404b2ad",
   "metadata": {},
   "outputs": [
    {
     "name": "stdout",
     "output_type": "stream",
     "text": [
      "Hybrid embeddings shape: (10343, 387)\n"
     ]
    }
   ],
   "source": [
    "# Extract normalized numerical features\n",
    "numerical_features = embedding_data[['rating_normalized', 'cost_normalized', 'votes_normalized']].values\n",
    "\n",
    "# Combine text embeddings with numerical features (weighted)\n",
    "text_weight = 0.8\n",
    "numerical_weight = 0.2\n",
    "\n",
    "# Scale numerical features to match embedding magnitude\n",
    "numerical_features_scaled = numerical_features * np.std(embeddings)\n",
    "\n",
    "# Create hybrid embeddings\n",
    "hybrid_embeddings = np.concatenate([\n",
    "    embeddings * text_weight,\n",
    "    numerical_features_scaled * numerical_weight\n",
    "], axis=1)\n",
    "\n",
    "print(f\"Hybrid embeddings shape: {hybrid_embeddings.shape}\")"
   ]
  },
  {
   "cell_type": "code",
   "execution_count": 7,
   "id": "35a6b391",
   "metadata": {},
   "outputs": [
    {
     "name": "stdout",
     "output_type": "stream",
     "text": [
      "Restaurant index created successfully\n"
     ]
    }
   ],
   "source": [
    "# Create restaurant index mapping\n",
    "restaurant_index = {\n",
    "    'names': restaurant_names,\n",
    "    'data': embedding_data,\n",
    "    'text_embeddings': embeddings,\n",
    "    'hybrid_embeddings': hybrid_embeddings,\n",
    "    'model': model\n",
    "}\n",
    "\n",
    "print(\"Restaurant index created successfully\")"
   ]
  },
  {
   "cell_type": "code",
   "execution_count": 8,
   "id": "3945ca4a",
   "metadata": {},
   "outputs": [
    {
     "name": "stdout",
     "output_type": "stream",
     "text": [
      "Found 703 restaurants matching 'Cafe':\n",
      "  - Cafe Talkhouse (hsr)\n",
      "  - Cross Road Cafe (jayanagar)\n",
      "  - Cafe D'hide (koramangala 5th block)\n",
      "  - Sidewalk Cafe - Nahar's Heritage Hotel (st. marks road)\n",
      "  - Brew Cafe (btm)\n",
      "\n",
      "Test result: Found Cafe Talkhouse\n"
     ]
    }
   ],
   "source": [
    "def find_restaurant_by_name(query_name, restaurant_data, top_k=5):\n",
    "    \"\"\"Find restaurants with similar names\"\"\"\n",
    "    query_name_lower = query_name.lower()\n",
    "    \n",
    "    # Exact match\n",
    "    exact_matches = restaurant_data[restaurant_data['name'].str.lower() == query_name_lower]\n",
    "    if not exact_matches.empty:\n",
    "        return exact_matches.index[0], exact_matches.iloc[0]\n",
    "    \n",
    "    # Partial match\n",
    "    partial_matches = restaurant_data[restaurant_data['name'].str.lower().str.contains(query_name_lower, na=False)]\n",
    "    if not partial_matches.empty:\n",
    "        print(f\"Found {len(partial_matches)} restaurants matching '{query_name}':\")\n",
    "        for idx, row in partial_matches.head(top_k).iterrows():\n",
    "            print(f\"  - {row['name']} ({row['location']})\")\n",
    "        return partial_matches.index[0], partial_matches.iloc[0]\n",
    "    \n",
    "    return None, None\n",
    "\n",
    "# Test the function\n",
    "test_idx, test_restaurant = find_restaurant_by_name(\"Cafe\", embedding_data)\n",
    "if test_restaurant is not None:\n",
    "    print(f\"\\nTest result: Found {test_restaurant['name']}\")"
   ]
  },
  {
   "cell_type": "code",
   "execution_count": 10,
   "id": "7d296aa3",
   "metadata": {},
   "outputs": [
    {
     "name": "stdout",
     "output_type": "stream",
     "text": [
      "Looking for restaurants similar to: 'kfc'\n",
      "------------------------------------------------------------\n",
      "Query Restaurant: KFC\n",
      "Location: koramangala 6th block\n",
      "Cuisines: burger, fast food\n",
      "Rating: 3.8\n",
      "Cost for two: ₹450\n",
      "------------------------------------------------------------\n",
      "Top 5 Similar Restaurants:\n",
      "------------------------------------------------------------\n",
      "1. KFC\n",
      "   Location: koramangala 6th block\n",
      "   Cuisines: burger, fast food\n",
      "   Rating: 3.8 | Cost: ₹450\n",
      "   Services: Yes online order, No table booking\n",
      "   Similarity: 1.000\n",
      "\n",
      "2. The Charcoal Factory\n",
      "   Location: koramangala 6th block\n",
      "   Cuisines: burger, pizza, momos\n",
      "   Rating: 4.1 | Cost: ₹600\n",
      "   Services: Yes online order, No table booking\n",
      "   Similarity: 0.954\n",
      "\n",
      "3. The Charcoal Factory\n",
      "   Location: koramangala 6th block\n",
      "   Cuisines: burger, pizza, momos\n",
      "   Rating: 4.1 | Cost: ₹600\n",
      "   Services: Yes online order, No table booking\n",
      "   Similarity: 0.954\n",
      "\n",
      "4. Meat And Eat\n",
      "   Location: koramangala 7th block\n",
      "   Cuisines: fast food, burger\n",
      "   Rating: 3.6 | Cost: ₹500\n",
      "   Services: Yes online order, No table booking\n",
      "   Similarity: 0.948\n",
      "\n",
      "5. Meat And Eat\n",
      "   Location: koramangala 7th block\n",
      "   Cuisines: fast food, burger\n",
      "   Rating: 3.6 | Cost: ₹500\n",
      "   Services: Yes online order, No table booking\n",
      "   Similarity: 0.948\n",
      "\n"
     ]
    }
   ],
   "source": [
    "def get_similar_restaurants(query_restaurant_idx, embeddings, restaurant_data, top_k=10, use_hybrid=True):\n",
    "    \"\"\"Get similar restaurants using cosine similarity\"\"\"\n",
    "    \n",
    "    # Choose embedding type\n",
    "    embedding_matrix = embeddings['hybrid_embeddings'] if use_hybrid else embeddings['text_embeddings']\n",
    "    \n",
    "    # Get query restaurant embedding\n",
    "    query_embedding = embedding_matrix[query_restaurant_idx].reshape(1, -1)\n",
    "    \n",
    "    # Calculate similarities\n",
    "    similarities = cosine_similarity(query_embedding, embedding_matrix)[0]\n",
    "    \n",
    "    # Get top-k most similar (excluding the query restaurant itself)\n",
    "    similar_indices = np.argsort(similarities)[::-1]\n",
    "    \n",
    "    # Filter out the query restaurant and get top-k\n",
    "    filtered_indices = [idx for idx in similar_indices if idx != query_restaurant_idx][:top_k]\n",
    "    \n",
    "    # Prepare results\n",
    "    results = []\n",
    "    for idx in filtered_indices:\n",
    "        similarity_score = similarities[idx]\n",
    "        restaurant = restaurant_data.iloc[idx]\n",
    "        \n",
    "        results.append({\n",
    "            'index': idx,\n",
    "            'name': restaurant['name'],\n",
    "            'location': restaurant['location'],\n",
    "            'cuisines': restaurant['cuisines'],\n",
    "            'restaurant_type': restaurant['restaurant_type'],\n",
    "            'rating': restaurant['rating'],\n",
    "            'cost': restaurant['cost'],\n",
    "            'similarity_score': similarity_score,\n",
    "            'online_order': restaurant['online_order'],\n",
    "            'book_table': restaurant['book_table']\n",
    "        })\n",
    "    \n",
    "    return results\n",
    "\n",
    "\n",
    "def recommend_restaurants(restaurant_name, restaurant_index, top_k=10, use_hybrid=True):\n",
    "    \"\"\"Main recommendation function\"\"\"\n",
    "    \n",
    "    print(f\"Looking for restaurants similar to: '{restaurant_name}'\")\n",
    "    print(\"-\" * 60)\n",
    "    \n",
    "    # Find the query restaurant\n",
    "    query_idx, query_restaurant = find_restaurant_by_name(restaurant_name, restaurant_index['data'])\n",
    "    \n",
    "    if query_restaurant is None:\n",
    "        print(f\"Restaurant '{restaurant_name}' not found!\")\n",
    "        return []\n",
    "    \n",
    "    print(f\"Query Restaurant: {query_restaurant['name']}\")\n",
    "    print(f\"Location: {query_restaurant['location']}\")\n",
    "    print(f\"Cuisines: {query_restaurant['cuisines']}\")\n",
    "    print(f\"Rating: {query_restaurant['rating']:.1f}\")\n",
    "    print(f\"Cost for two: ₹{query_restaurant['cost']:.0f}\")\n",
    "    print(\"-\" * 60)\n",
    "    \n",
    "    # Get similar restaurants\n",
    "    recommendations = get_similar_restaurants(\n",
    "        query_idx, \n",
    "        restaurant_index, \n",
    "        restaurant_index['data'], \n",
    "        top_k=top_k,\n",
    "        use_hybrid=use_hybrid\n",
    "    )\n",
    "    \n",
    "    print(f\"Top {len(recommendations)} Similar Restaurants:\")\n",
    "    print(\"-\" * 60)\n",
    "    \n",
    "    for i, rec in enumerate(recommendations, 1):\n",
    "        print(f\"{i}. {rec['name']}\")\n",
    "        print(f\"   Location: {rec['location']}\")\n",
    "        print(f\"   Cuisines: {rec['cuisines']}\")\n",
    "        print(f\"   Rating: {rec['rating']:.1f} | Cost: ₹{rec['cost']:.0f}\")\n",
    "        print(f\"   Services: {rec['online_order']} online order, {rec['book_table']} table booking\")\n",
    "        print(f\"   Similarity: {rec['similarity_score']:.3f}\")\n",
    "        print()\n",
    "    \n",
    "    return recommendations\n",
    "\n",
    "\n",
    "# Test with a specific restaurant\n",
    "test_recommendations = recommend_restaurants(\"kfc\", restaurant_index, top_k=5)\n",
    "\n",
    "\n",
    "# Test with another restaurant\n",
    "# test_recommendations_2 = recommend_restaurants(\"Empire Restaurant\", restaurant_index, top_k=5, use_hybrid=False)\n",
    "\n"
   ]
  },
  {
   "cell_type": "code",
   "execution_count": 11,
   "id": "f6a38c0e",
   "metadata": {},
   "outputs": [
    {
     "name": "stdout",
     "output_type": "stream",
     "text": [
      "Recommendation system saved!\n",
      "Files created:\n",
      "- ../models/restaurant_embeddings.pkl\n",
      "- ../models/restaurant_data_indexed.csv\n"
     ]
    }
   ],
   "source": [
    "os.makedirs('../models', exist_ok=True)\n",
    "\n",
    "# Save the restaurant index (without the model to avoid serialization issues)\n",
    "index_to_save = {\n",
    "    'names': restaurant_index['names'],\n",
    "    'text_embeddings': restaurant_index['text_embeddings'],\n",
    "    'hybrid_embeddings': restaurant_index['hybrid_embeddings']\n",
    "}\n",
    "\n",
    "with open('../models/restaurant_embeddings.pkl', 'wb') as f:\n",
    "    pickle.dump(index_to_save, f)\n",
    "\n",
    "# Save restaurant data separately\n",
    "embedding_data.to_csv('../models/restaurant_data_indexed.csv', index=True)\n",
    "\n",
    "print(\"Recommendation system saved!\")\n",
    "print(\"Files created:\")\n",
    "print(\"- ../models/restaurant_embeddings.pkl\")\n",
    "print(\"- ../models/restaurant_data_indexed.csv\")"
   ]
  },
  {
   "cell_type": "code",
   "execution_count": 12,
   "id": "0f661aa2",
   "metadata": {},
   "outputs": [
    {
     "name": "stdout",
     "output_type": "stream",
     "text": [
      "Successfully loaded recommendation system with 10343 restaurants\n"
     ]
    }
   ],
   "source": [
    "def load_recommendation_system():\n",
    "    \"\"\"Load the saved recommendation system\"\"\"\n",
    "    \n",
    "    # Load embeddings\n",
    "    with open('../models/restaurant_embeddings.pkl', 'rb') as f:\n",
    "        embeddings_data = pickle.load(f)\n",
    "    \n",
    "    # Load restaurant data\n",
    "    restaurant_data = pd.read_csv('../models/restaurant_data_indexed.csv', index_col=0)\n",
    "    \n",
    "    # Recreate the model\n",
    "    model = SentenceTransformer('all-MiniLM-L6-v2')\n",
    "    \n",
    "    # Recreate restaurant index\n",
    "    restaurant_index = {\n",
    "        'names': embeddings_data['names'],\n",
    "        'data': restaurant_data,\n",
    "        'text_embeddings': embeddings_data['text_embeddings'],\n",
    "        'hybrid_embeddings': embeddings_data['hybrid_embeddings'],\n",
    "        'model': model\n",
    "    }\n",
    "    \n",
    "    return restaurant_index\n",
    "\n",
    "# Test loading\n",
    "loaded_index = load_recommendation_system()\n",
    "print(f\"Successfully loaded recommendation system with {len(loaded_index['names'])} restaurants\")\n"
   ]
  },
  {
   "cell_type": "code",
   "execution_count": 13,
   "id": "e9af8848",
   "metadata": {},
   "outputs": [
    {
     "name": "stdout",
     "output_type": "stream",
     "text": [
      "Testing loaded recommendation system:\n",
      "Looking for restaurants similar to: 'Pizza'\n",
      "------------------------------------------------------------\n",
      "Found 108 restaurants matching 'Pizza':\n",
      "  - La Pino'z Pizza (koramangala 4th block)\n",
      "  - Garage Pizza (basavanagudi)\n",
      "  - Pizza Hut (old airport road)\n",
      "  - Eagles Pizza (kalyan nagar)\n",
      "  - Pizza Republic (electronic city)\n",
      "Query Restaurant: La Pino'z Pizza\n",
      "Location: koramangala 4th block\n",
      "Cuisines: italian, pizza, beverages\n",
      "Rating: 4.1\n",
      "Cost for two: ₹600\n",
      "------------------------------------------------------------\n",
      "Top 3 Similar Restaurants:\n",
      "------------------------------------------------------------\n",
      "1. La Pino'z Pizza\n",
      "   Location: koramangala 4th block\n",
      "   Cuisines: italian, pizza, beverages\n",
      "   Rating: 4.1 | Cost: ₹600\n",
      "   Services: Yes online order, No table booking\n",
      "   Similarity: 1.000\n",
      "\n",
      "2. La Pino'z Pizza\n",
      "   Location: koramangala 4th block\n",
      "   Cuisines: italian, pizza, beverages\n",
      "   Rating: 4.1 | Cost: ₹600\n",
      "   Services: Yes online order, No table booking\n",
      "   Similarity: 1.000\n",
      "\n",
      "3. Pizza Stop\n",
      "   Location: koramangala 4th block\n",
      "   Cuisines: pizza, italian\n",
      "   Rating: 3.9 | Cost: ₹600\n",
      "   Services: Yes online order, No table booking\n",
      "   Similarity: 0.929\n",
      "\n"
     ]
    }
   ],
   "source": [
    "\n",
    "print(\"Testing loaded recommendation system:\")\n",
    "loaded_recommendations = recommend_restaurants(\"Pizza\", loaded_index, top_k=3)"
   ]
  }
 ],
 "metadata": {
  "kernelspec": {
   "display_name": "recommendation-system (3.11.12)",
   "language": "python",
   "name": "python3"
  },
  "language_info": {
   "codemirror_mode": {
    "name": "ipython",
    "version": 3
   },
   "file_extension": ".py",
   "mimetype": "text/x-python",
   "name": "python",
   "nbconvert_exporter": "python",
   "pygments_lexer": "ipython3",
   "version": "3.11.12"
  }
 },
 "nbformat": 4,
 "nbformat_minor": 5
}
